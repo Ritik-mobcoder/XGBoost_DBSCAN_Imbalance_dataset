{
 "cells": [
  {
   "cell_type": "code",
   "execution_count": null,
   "id": "7b4b177c-7a46-41b5-bd39-3edbea9f0e2b",
   "metadata": {},
   "outputs": [],
   "source": [
    "import seaborn as sns\n",
    "import pandas as pd\n",
    "from sklearn.model_selection import train_test_split\n",
    "from xgboost import XGBRegressor\n",
    "from sklearn.metrics import mean_squared_error\n",
    "from sklearn.metrics import accuracy_score\n",
    "from sklearn.datasets import load_iris\n",
    "from sklearn.datasets import load_diabetes\n",
    "\n",
    "\n",
    "from sklearn.cluster import DBSCAN\n",
    "import matplotlib.pyplot as plt"
   ]
  },
  {
   "cell_type": "code",
   "execution_count": null,
   "id": "abb72e3f-c57b-409a-8e41-bec169d983e9",
   "metadata": {},
   "outputs": [],
   "source": [
    "iris = load_iris()\n",
    "X = iris.data\n",
    "y = iris.target"
   ]
  },
  {
   "cell_type": "code",
   "execution_count": null,
   "id": "c4858888-6097-4abc-a3f9-26ec8dbacee3",
   "metadata": {},
   "outputs": [],
   "source": [
    "X_train, X_test, y_train, y_test = train_test_split(X, y, test_size=0.2, random_state=42)\n",
    "\n",
    "xgb_model = XGBClassifier(\n",
    "    n_estimators=100,      \n",
    "    learning_rate=0.1,     \n",
    "    max_depth=3,          \n",
    "    random_state=42       \n",
    ")\n",
    "xgb_model.fit(X_train, y_train)\n",
    "\n",
    "y_pred = xgb_model.predict(X_test)\n",
    "\n",
    "accuracy = accuracy_score(y_test, y_pred)\n",
    "print(\"Accuracy\",accuracy)"
   ]
  },
  {
   "cell_type": "code",
   "execution_count": null,
   "id": "a5d915e5-4d24-4636-b45a-b68016332e01",
   "metadata": {},
   "outputs": [],
   "source": [
    "y[0]"
   ]
  },
  {
   "cell_type": "code",
   "execution_count": null,
   "id": "017135e9-60ba-405d-a3de-1fdc1459c2a4",
   "metadata": {},
   "outputs": [],
   "source": [
    "X = np.array([[1,2], [3,6],[6,9], [3,8],[5,1], [9,4]])"
   ]
  },
  {
   "cell_type": "code",
   "execution_count": null,
   "id": "79eda235-be2f-4522-865c-ac403c29a8f8",
   "metadata": {},
   "outputs": [],
   "source": [
    "plt.scatter(X[:, 0], X[:, 1])\n",
    "plt.show"
   ]
  },
  {
   "cell_type": "code",
   "execution_count": null,
   "id": "d1fe7807-9993-442c-918a-01fb9525a145",
   "metadata": {},
   "outputs": [],
   "source": [
    "db = DBSCAN(eps=10, min_samples=2)\n",
    "\n",
    "db.fit(X)\n",
    "db.labels_"
   ]
  },
  {
   "cell_type": "code",
   "execution_count": null,
   "id": "fbba2d6b-0eea-443d-82c1-2683a77139d8",
   "metadata": {},
   "outputs": [],
   "source": [
    "plt.scatter(X[:, 0], X[:, 1], c=clusters, cmap='viridis', marker='o')\n",
    "plt.title(\"DBSCAN Clustering of Concentric Circles\")\n",
    "plt.xlabel(\"Feature 0\")\n",
    "plt.ylabel(\"Feature 1\")\n",
    "plt.show()"
   ]
  },
  {
   "cell_type": "code",
   "execution_count": null,
   "id": "e452c99f-8888-43ca-85ab-8c2f5701e5ca",
   "metadata": {},
   "outputs": [],
   "source": []
  }
 ],
 "metadata": {
  "kernelspec": {
   "display_name": "Python 3 (ipykernel)",
   "language": "python",
   "name": "python3"
  },
  "language_info": {
   "codemirror_mode": {
    "name": "ipython",
    "version": 3
   },
   "file_extension": ".py",
   "mimetype": "text/x-python",
   "name": "python",
   "nbconvert_exporter": "python",
   "pygments_lexer": "ipython3",
   "version": "3.11.10"
  }
 },
 "nbformat": 4,
 "nbformat_minor": 5
}
